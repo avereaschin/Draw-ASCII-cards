{
 "cells": [
  {
   "cell_type": "markdown",
   "metadata": {},
   "source": [
    "# Draw cards with ASCII characters\n",
    "\n",
    "When I first started writing code for a card game project I didn't plan on using any GUI libraries and wanted the game to be playable from the command prompt so I started writing up code that draws cards using ASCII characters. "
   ]
  },
  {
   "cell_type": "code",
   "execution_count": 22,
   "metadata": {},
   "outputs": [],
   "source": [
    "from collections import namedtuple #used to create the card deck\n",
    "from random import choice #used to create random card sequences, i.e. hand each player receives\n",
    "\n",
    "ranks = [str(i) for i in range(7, 11)] + 'J, Q, K, A'.split(', ')\n",
    "suits = ['Clubs', 'Diamonds', 'Hearts', 'Spades']\n",
    "Card = namedtuple('Card', ['Rank', 'Suit'])\n",
    "Deck = [Card(rank, suit) for rank in ranks for suit in suits]\n",
    "\n",
    "Hierarchy_ = {'10': 4, '7': 1, '8': 2, '9': 3, 'A': 8, 'J': 5, 'K': 7, 'Q': 6}"
   ]
  },
  {
   "cell_type": "code",
   "execution_count": 23,
   "metadata": {},
   "outputs": [
    {
     "name": "stdout",
     "output_type": "stream",
     "text": [
      ".------. .------. .------. .------. .------. .------.\n",
      "|7 _   | |J _   | |7 /\\  | |8 ^   | |9 ^   | |Q ^   |\n",
      "| ( )  | | ( )  | | /  \\ | | / \\  | | / \\  | | / \\  |\n",
      "|(_x_) | |(_x_) | | \\  / | |(_,_) | |(_,_) | |(_,_) |\n",
      "|  Y  7| |  Y  J| |  \\/ 7| |  I  8| |  I  9| |  I  Q|\n",
      "'------' '------' '------' '------' '------' '------'\n"
     ]
    }
   ],
   "source": [
    "draw_suit = {'Hearts': ['_' + ' ' * 2 + '_' + ' ', '(' + ' ' + '\\\\' + '/' + ' ' + ')', ' ' + '\\\\' + ' ' * 2 + '/' + ' ', ' ' * 2 + '\\\\' + '/' + ' '],\n",
    "             'Clubs': [' ' + '_' + ' ' * 3, ' ' + '(' + ' ' + ')' + ' ' * 2, '(' + '_' + 'x' + '_' + ')' + ' ', ' ' * 2 + 'Y' + ' ' * 2],  \n",
    "             'Diamonds': [' ' + '/' + '\\\\' + ' ' * 2, ' ' + '/' + ' ' * 2 + '\\\\' + ' ', ' ' + '\\\\' + ' ' * 2 + '/' + ' ', ' ' * 2 + '\\\\' + '/' + ' '],\n",
    "             'Spades': [' ' + '^' + ' ' * 3, ' ' + '/' + ' ' + '\\\\' + ' ' * 2, '(' + '_' + ',' + '_' + ')' + ' ', ' ' * 2 + 'I' + ' ' * 2]\n",
    "            }\n",
    "\n",
    "def ascii_card(rank, suit):\n",
    "    \n",
    "    # Number 10 didn't fit in my ASCII card so had to replace it with a different character so I chose the Roman\n",
    "    # numeral X\n",
    "    if rank == '10': \n",
    "        rank = 'X'\n",
    "    \n",
    "    # empty card. to be filled with suit and rank.\n",
    "    row1 = '.' + '-' * 6 + '.' \n",
    "    row2 = '|' + f'{rank}' + '{}'.format(draw_suit[suit][0]) + '|' \n",
    "    row3 = '|' + '{}'.format(draw_suit[suit][1]) + '|' \n",
    "    row4 = '|' + '{}'.format(draw_suit[suit][2]) + '|' \n",
    "    row5 = '|' + '{}'.format(draw_suit[suit][3]) + f'{rank}' + '|' \n",
    "    row6 = '\\'' + '-' * 6 + '\\'' #row6\n",
    "    \n",
    "    return [row1, row2, row3, row4, row5, row6]\n",
    "\n",
    "\n",
    "def draw_hand(hand):\n",
    "    for j in zip(*[ascii_card(i[0], i[1]) for i in hand]):\n",
    "        print(*j)\n",
    "        \n",
    "hand = list()    \n",
    "\n",
    "# randomly generate a hand of 6 cards\n",
    "for i in range(6):\n",
    "    pick_card = choice(Deck)\n",
    "    hand.append(pick_card)\n",
    "    Deck.pop(Deck.index(pick_card))\n",
    "\n",
    "# sort hand by suit (alphabetically) then rank (based on Hierarchy_ dict values)\n",
    "hand.sort(key=lambda x: (x[1], Hierarchy_[x[0]]))    \n",
    "    \n",
    "draw_hand(hand)"
   ]
  },
  {
   "cell_type": "code",
   "execution_count": 20,
   "metadata": {},
   "outputs": [
    {
     "name": "stdout",
     "output_type": "stream",
     "text": [
      ".------.\n",
      "|X .------.\n",
      "| /|5 /\\  |\n",
      "|(_| /  \\ |\n",
      "|  | \\  / |\n",
      "'--|  \\/ 5|\n",
      "   '------'\n"
     ]
    }
   ],
   "source": [
    "def beating_card(rank, suit):\n",
    "    \n",
    "    if rank == '10': \n",
    "        rank = 'X'\n",
    "    \n",
    "    # empty card. to be filled with suit and rank.\n",
    "    row0 = '-' * 3 + '.'\n",
    "    row1 = '.' + '-' * 6 + '.' \n",
    "    row2 = '|' + f'{rank}' + '{}'.format(draw_suit[suit][0]) + '|' \n",
    "    row3 = '|' + '{}'.format(draw_suit[suit][1]) + '|' \n",
    "    row4 = '|' + '{}'.format(draw_suit[suit][2]) + '|' \n",
    "    row5 = '|' + '{}'.format(draw_suit[suit][3]) + f'{rank}' + '|' \n",
    "    row6 = '\\'' + '-' * 6 + '\\'' #row6\n",
    "    \n",
    "    return [row0, row1, row2, row3, row4, row5, row6]\n",
    "\n",
    "def beat_card(rank, suit):\n",
    "    \n",
    "    if rank == '10': \n",
    "        rank = 'X'\n",
    "    \n",
    "    row0 = '.' + '-' * 3\n",
    "    row1 = '|' + f'{rank}' + '{}'.format(draw_suit[suit][0][0:1])\n",
    "    row2 = '|' + '{}'.format(draw_suit[suit][1][0:2])\n",
    "    row3 = '|' + '{}'.format(draw_suit[suit][2][0:2])\n",
    "    row4 = '|' + '{}'.format(draw_suit[suit][3][0:2])\n",
    "    row5 = '\\'' + '-' * 2\n",
    "    row6 = ' ' * 3\n",
    "        \n",
    "    return [row0, row1, row2, row3, row4, row5, row6]\n",
    "\n",
    "for i, j in zip(beat_card('10', 'Spades'), beating_card('5', 'Diamonds')):\n",
    "    print(i, j, sep ='')"
   ]
  }
 ],
 "metadata": {
  "kernelspec": {
   "display_name": "Python 3.7.1 64-bit ('base': conda)",
   "language": "python",
   "name": "python37164bitbasecondab8e8e46613e54e029fc1b599f47f20c7"
  },
  "language_info": {
   "codemirror_mode": {
    "name": "ipython",
    "version": 3
   },
   "file_extension": ".py",
   "mimetype": "text/x-python",
   "name": "python",
   "nbconvert_exporter": "python",
   "pygments_lexer": "ipython3",
   "version": "3.7.1"
  }
 },
 "nbformat": 4,
 "nbformat_minor": 2
}
